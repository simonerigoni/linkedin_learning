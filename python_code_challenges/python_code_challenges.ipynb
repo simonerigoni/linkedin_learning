{
 "nbformat": 4,
 "nbformat_minor": 2,
 "metadata": {
  "language_info": {
   "name": "python",
   "codemirror_mode": {
    "name": "ipython",
    "version": 3
   },
   "version": "3.8.2-final"
  },
  "orig_nbformat": 2,
  "file_extension": ".py",
  "mimetype": "text/x-python",
  "name": "python",
  "npconvert_exporter": "python",
  "pygments_lexer": "ipython3",
  "version": 3,
  "kernelspec": {
   "name": "python38264bit8c8bf57897dd41afbb2bfcf7cdeb8645",
   "display_name": "Python 3.8.2 64-bit"
  }
 },
 "cells": [
  {
   "cell_type": "markdown",
   "metadata": {},
   "source": [
    "# [Linkedin Learning Python Code Challenges](https://www.linkedin.com/learning/python-code-challenges/put-your-python-skills-to-the-test)\n",
    "\n",
    "Contents\n",
    "- Introduction\n",
    "  - Put your Python skills to the test\n",
    "- Challenges\n",
    "  - Find prime factors\n",
    "  - Identify a palindrome\n",
    "  - Sort a string\n",
    "  - Find all list items\n",
    "  - Play the waiting game\n",
    "  - Save a dictionary\n",
    "  - Set an alarm\n",
    "  - Send an email\n",
    "  - Simulate dice\n",
    "  - Count unique words\n",
    "  - Generate a password\n",
    "  - Merge CSV files\n",
    "  - Solve a Sudoku\n",
    "  - Build a ZIP archive\n",
    "  - Download sequential files"
   ],
   "execution_count": null,
   "outputs": []
  },
  {
   "cell_type": "markdown",
   "metadata": {},
   "source": [
    "## Find prime factors\n",
    "\n",
    "From [wikipedia](https://en.wikipedia.org/wiki/Prime_number), a prime number (or a prime) is a natural number greater than 1 that cannot be formed by multiplying two smaller natural numbers. A natural number greater than 1 that is not prime is called a composite number. For example, 5 is prime because the only ways of writing it as a product, 1 × 5 or 5 × 1, involve 5 itself. However, 6 is composite because it is the product of two numbers (2 × 3) that are both smaller than 6. Primes are central in number theory because of the fundamental theorem of arithmetic: every natural number greater than 1 is either a prime itself or can be factorized as a product of primes that is unique up to their order\n"
   ],
   "execution_count": null,
   "outputs": []
  },
  {
   "cell_type": "code",
   "execution_count": 7,
   "metadata": {},
   "outputs": [
    {
     "output_type": "execute_result",
     "data": {
      "text/plain": "[2, 3, 3, 5, 7]"
     },
     "metadata": {},
     "execution_count": 7
    }
   ],
   "source": [
    "from find_prime_factors.find_prime_factors import get_prime_factors\n",
    "\n",
    "get_prime_factors(630)"
   ]
  },
  {
   "cell_type": "markdown",
   "metadata": {},
   "source": [
    "## Identify a palindrome\n",
    "From [wikipedia](https://en.wikipedia.org/wiki/Palindrome), a palindrome is a word, number, phrase, or other sequence of characters which reads the same backward as forward, such as madam, racecar\n"
   ],
   "execution_count": null,
   "outputs": []
  },
  {
   "cell_type": "code",
   "execution_count": 8,
   "metadata": {},
   "outputs": [
    {
     "output_type": "execute_result",
     "data": {
      "text/plain": "True"
     },
     "metadata": {},
     "execution_count": 8
    }
   ],
   "source": [
    "from identify_a_palindrome.identify_a_palindrome import is_palindrome\n",
    "\n",
    "is_palindrome('race car')"
   ]
  },
  {
   "cell_type": "markdown",
   "metadata": {},
   "source": [
    "## Sort a string\n",
    "\n",
    "Sort an input phrase in alphbeticaly order by word. Not case sensitive only for sorting and space is the word separator"
   ],
   "execution_count": null,
   "outputs": []
  },
  {
   "cell_type": "code",
   "execution_count": 9,
   "metadata": {},
   "outputs": [
    {
     "output_type": "execute_result",
     "data": {
      "text/plain": "'apple banana ORANGE'"
     },
     "metadata": {},
     "execution_count": 9
    }
   ],
   "source": [
    "from sort_a_string.sort_a_string import sort_words\n",
    "\n",
    "sort_words('banana ORANGE apple')"
   ]
  },
  {
   "cell_type": "markdown",
   "metadata": {},
   "source": [
    "## Find all list items"
   ],
   "execution_count": null,
   "outputs": []
  },
  {
   "cell_type": "code",
   "execution_count": 10,
   "metadata": {},
   "outputs": [
    {
     "output_type": "execute_result",
     "data": {
      "text/plain": "[[0, 0, 1], [0, 1], [1, 1]]"
     },
     "metadata": {},
     "execution_count": 10
    }
   ],
   "source": [
    "from find_all_list_items.find_all_list_items import index_all_items\n",
    "\n",
    "index_all_items([[[1, 2, 3], 2, [1, 3]], [1, 2, 3]], 2)"
   ]
  },
  {
   "cell_type": "markdown",
   "metadata": {},
   "source": [
    "## Play the waiting game\n",
    "\n",
    "To win you have to wait the required number of seconds"
   ],
   "execution_count": null,
   "outputs": []
  },
  {
   "cell_type": "code",
   "execution_count": 11,
   "metadata": {},
   "outputs": [
    {
     "output_type": "stream",
     "name": "stdout",
     "text": "Your target time is 1 seconds\nElapsed time 1.01\nYou lose! 0.01 seconds too slow\n"
    }
   ],
   "source": [
    "from play_the_waiting_game.play_the_waiting_game import waiting_game\n",
    "\n",
    "waiting_game()"
   ]
  },
  {
   "cell_type": "markdown",
   "metadata": {},
   "source": [
    "## Save a dictionary"
   ],
   "execution_count": null,
   "outputs": []
  },
  {
   "cell_type": "code",
   "execution_count": 12,
   "metadata": {},
   "outputs": [
    {
     "output_type": "execute_result",
     "data": {
      "text/plain": "{1: 'pippo', 2: 'pluto', 3: 'paperino'}"
     },
     "metadata": {},
     "execution_count": 12
    }
   ],
   "source": [
    "from save_a_dictionary.save_a_dictionary import save_dictonary, load_dictonary\n",
    "\n",
    "save_dictonary({1 : 'pippo', 2 : 'pluto', 3 : 'paperino'}, 'save_a_dictionary/disney_characters.pickle')\n",
    "\n",
    "load_dictonary('save_a_dictionary/disney_characters.pickle')"
   ]
  },
  {
   "cell_type": "markdown",
   "metadata": {},
   "source": [
    "## Set an alarm"
   ],
   "execution_count": null,
   "outputs": []
  },
  {
   "cell_type": "code",
   "execution_count": 13,
   "metadata": {},
   "outputs": [
    {
     "output_type": "stream",
     "name": "stdout",
     "text": "Alarm set for  Sat Apr 11 11:16:17 2020\nWake up!\n"
    }
   ],
   "source": [
    "import time\n",
    "from set_an_alarm.set_an_alarm import set_alarm\n",
    "\n",
    "set_alarm(time.time() + 1, 'set_an_alarm/Alarm05.wav', 'Wake up!')"
   ]
  },
  {
   "cell_type": "markdown",
   "metadata": {},
   "source": [
    "## Send an email"
   ],
   "execution_count": null,
   "outputs": []
  },
  {
   "cell_type": "code",
   "execution_count": 14,
   "metadata": {},
   "outputs": [],
   "source": [
    "from send_an_email.send_an_email import send_email\n",
    "\n",
    "send_email('receiver_email_address@gmail.com', 'Test email', 'This is a test email. Cheers')"
   ]
  },
  {
   "cell_type": "markdown",
   "metadata": {},
   "source": [
    "## Simulate dice\n",
    "\n",
    "Simulate the result of the sum of some dices using a [Monte Carlo](https://en.wikipedia.org/wiki/Monte_Carlo_method) simulation"
   ],
   "execution_count": null,
   "outputs": []
  },
  {
   "cell_type": "code",
   "execution_count": 15,
   "metadata": {},
   "outputs": [
    {
     "output_type": "stream",
     "name": "stdout",
     "text": "Outcome\tProbability\n3\t0.70%\n4\t2.09%\n5\t4.17%\n6\t6.97%\n7\t9.73%\n8\t12.51%\n9\t13.89%\n10\t13.87%\n11\t12.44%\n12\t9.73%\n13\t6.91%\n14\t4.19%\n15\t2.08%\n16\t0.71%\n"
    }
   ],
   "source": [
    "from simulate_dice.simulate_dice import roll_dices\n",
    "\n",
    "roll_dices(6,6,4)"
   ]
  },
  {
   "cell_type": "markdown",
   "metadata": {},
   "source": [
    "## Count unique words\n",
    "\n",
    "Count the unique words in a text ignoring the case and the punctuation signs. The return the n most common words"
   ],
   "execution_count": null,
   "outputs": []
  },
  {
   "cell_type": "code",
   "execution_count": 16,
   "metadata": {},
   "outputs": [
    {
     "output_type": "stream",
     "name": "stdout",
     "text": "Total words: 610\nTop 20 words:\nin : 12\nas : 11\nof : 9\nso : 8\nhe : 8\nby : 7\nan : 7\nis : 7\nto : 7\ndo : 6\nam : 6\nit : 6\nno : 6\nmr : 6\nme : 6\nwe : 5\noh : 5\nwhy : 5\nmrs : 5\nher : 5\n"
    }
   ],
   "source": [
    "from count_unique_words.count_unique_words import count_words\n",
    "\n",
    "count_words('count_unique_words/text_file.txt')"
   ]
  },
  {
   "cell_type": "markdown",
   "metadata": {},
   "source": [
    "## Generate a password\n",
    "\n",
    "Generate a password using [Diceware](http://world.std.com/~reinhold/diceware.html)"
   ],
   "execution_count": null,
   "outputs": []
  },
  {
   "cell_type": "code",
   "execution_count": 17,
   "metadata": {},
   "outputs": [
    {
     "output_type": "stream",
     "name": "stdout",
     "text": "bali stun 4321 freer modish\n"
    }
   ],
   "source": [
    "from generate_a_password.generate_a_password import generate_passphrase\n",
    "\n",
    "print(generate_passphrase(5, 'generate_a_password/diceware_wordlist.asc'))"
   ]
  },
  {
   "cell_type": "markdown",
   "metadata": {},
   "source": [
    "## Merge CSV files\n",
    "\n",
    "Merge two or more CSV file handling the case the files have different column structure"
   ],
   "execution_count": null,
   "outputs": []
  },
  {
   "cell_type": "code",
   "execution_count": 18,
   "metadata": {},
   "outputs": [],
   "source": [
    "from merge_csv_files.merge_csv_files import merge_csv\n",
    "\n",
    "merge_csv(['merge_csv_files/class_1.csv', 'merge_csv_files/class_2.csv'], 'merge_csv_files/all_students.csv')"
   ]
  },
  {
   "cell_type": "markdown",
   "metadata": {},
   "source": [
    "## Solve a Sudoku\n"
   ],
   "execution_count": null,
   "outputs": []
  },
  {
   "cell_type": "code",
   "execution_count": 19,
   "metadata": {},
   "outputs": [
    {
     "output_type": "stream",
     "name": "stdout",
     "text": "-------------------------\n| 5 3 4 | 6 7 8 | 9 1 2 |\n| 6 7 2 | 1 9 5 | 3 4 8 |\n| 1 9 8 | 3 4 2 | 5 6 7 |\n-------------------------\n| 8 5 9 | 7 6 1 | 4 2 3 |\n| 4 2 6 | 8 5 3 | 7 9 1 |\n| 7 1 3 | 9 2 4 | 8 5 6 |\n-------------------------\n| 9 6 1 | 5 3 7 | 2 8 4 |\n| 2 8 7 | 4 1 9 | 6 3 5 |\n| 3 4 5 | 2 8 6 | 1 7 9 |\n-------------------------\n"
    }
   ],
   "source": [
    "from solve_a_sudoku.solve_a_sudoku import solve_sudoku, print_sudoku\n",
    "\n",
    "puzzle = [[5, 3, 0, 0, 7, 0, 0, 0, 0]\n",
    "            , [6, 0, 0, 1, 9, 5, 0, 0, 0]\n",
    "            , [0, 9, 8, 0, 0, 0, 0, 6, 0]\n",
    "            , [8, 0, 0, 0, 6, 0, 0, 0, 3]\n",
    "            , [4, 0, 0, 8, 0, 3, 0, 0, 1]\n",
    "            , [7, 0, 0, 0, 2, 0, 0, 0, 6]\n",
    "            , [0, 6, 0, 0, 0, 0, 2, 8, 0]\n",
    "            , [0, 0, 0, 4, 1, 9, 0, 0, 5]\n",
    "            , [0, 0, 0, 0, 8, 0, 0, 7, 9]]\n",
    "\n",
    "print_sudoku(solve_sudoku(puzzle))"
   ]
  },
  {
   "cell_type": "markdown",
   "metadata": {},
   "source": [
    "## Build a ZIP archive\n",
    "\n",
    "Build a zip file starting from the base directory using only the files having the required extensions and keeping the directory structure"
   ],
   "execution_count": null,
   "outputs": []
  },
  {
   "cell_type": "code",
   "execution_count": 20,
   "metadata": {},
   "outputs": [],
   "source": [
    "from build_a_zip_archive.build_a_zip_archive import zip_all\n",
    "\n",
    "zip_all('build_a_zip_archive/fiori', ['jpg', 'png'], 'build_a_zip_archive/flowers.zip')"
   ]
  },
  {
   "cell_type": "markdown",
   "metadata": {},
   "source": [
    "## Download sequential files\n",
    "\n",
    "Donwload a sequence of file. The sequence is conded in the url"
   ],
   "execution_count": null,
   "outputs": []
  },
  {
   "cell_type": "code",
   "execution_count": 21,
   "metadata": {},
   "outputs": [
    {
     "output_type": "stream",
     "name": "stdout",
     "text": "Try download: image001.jpg - Completed\nTry download: image002.jpg - Completed\nTry download: image003.jpg - Completed\nTry download: image004.jpg - Completed\nTry download: image005.jpg - Completed\nTry download: image006.jpg - Completed\nTry download: image007.jpg - Completed\nTry download: image008.jpg - Completed\nTry download: image009.jpg - Completed\nTry download: image010.jpg - Completed\nTry download: image011.jpg - Completed\nTry download: image012.jpg - Completed\nTry download: image013.jpg - Completed\nTry download: image014.jpg - Completed\nTry download: image015.jpg - Completed\nTry download: image016.jpg - Completed\nTry download: image017.jpg - Completed\nTry download: image018.jpg - Completed\nTry download: image019.jpg - Completed\nTry download: image020.jpg - Completed\nTry download: image021.jpg - Completed\nTry download: image022.jpg - Completed\nTry download: image023.jpg - Completed\nTry download: image024.jpg - Completed\nTry download: image025.jpg - Completed\nTry download: image026.jpg - Completed\nTry download: image027.jpg - Completed\nTry download: image028.jpg - Completed\nTry download: image029.jpg - Completed\nTry download: image030.jpg - Completed\nTry download: image031.jpg - Completed\nTry download: image032.jpg - Completed\nTry download: image033.jpg - Completed\nTry download: image034.jpg - Completed\nTry download: image035.jpg - Completed\nTry download: image036.jpg - Completed\nTry download: image037.jpg - Completed\nTry download: image038.jpg - Completed\nTry download: image039.jpg - Completed\nTry download: image040.jpg - Completed\nTry download: image041.jpg - Completed\nTry download: image042.jpg - Completed\nTry download: image043.jpg - Completed\nTry download: image044.jpg - Completed\nTry download: image045.jpg - Completed\nTry download: image046.jpg - Completed\nTry download: image047.jpg - Completed\nTry download: image048.jpg - Completed\nTry download: image049.jpg - Completed\nTry download: image050.jpg - Completed\nTry download: image051.jpg - Failed\n"
    }
   ],
   "source": [
    "from download_sequential_files.download_sequential_files import download_sequential_files\n",
    "\n",
    "download_sequential_files('http://699340.youcanlearnit.net/image001.jpg', 'download_sequential_files/download')"
   ]
  },
  {
   "cell_type": "code",
   "execution_count": null,
   "metadata": {},
   "outputs": [],
   "source": []
  }
 ]
}